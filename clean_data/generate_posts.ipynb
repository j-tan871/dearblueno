{
 "cells": [
  {
   "cell_type": "code",
   "execution_count": 77,
   "metadata": {},
   "outputs": [],
   "source": [
    "import numpy as np\n",
    "import pandas as pd\n",
    "import csv\n",
    "from random import randint"
   ]
  },
  {
   "cell_type": "code",
   "execution_count": 38,
   "metadata": {},
   "outputs": [
    {
     "data": {
      "text/html": [
       "<div>\n",
       "<style scoped>\n",
       "    .dataframe tbody tr th:only-of-type {\n",
       "        vertical-align: middle;\n",
       "    }\n",
       "\n",
       "    .dataframe tbody tr th {\n",
       "        vertical-align: top;\n",
       "    }\n",
       "\n",
       "    .dataframe thead th {\n",
       "        text-align: right;\n",
       "    }\n",
       "</style>\n",
       "<table border=\"1\" class=\"dataframe\">\n",
       "  <thead>\n",
       "    <tr style=\"text-align: right;\">\n",
       "      <th></th>\n",
       "      <th>0</th>\n",
       "    </tr>\n",
       "  </thead>\n",
       "  <tbody>\n",
       "    <tr>\n",
       "      <th>0</th>\n",
       "      <td>[1]</td>\n",
       "    </tr>\n",
       "    <tr>\n",
       "      <th>1</th>\n",
       "      <td>[topic:, grades, Someone, please, make, a, pet...</td>\n",
       "    </tr>\n",
       "    <tr>\n",
       "      <th>2</th>\n",
       "      <td>[topic:, grades, Firstly,, in, response, to, s...</td>\n",
       "    </tr>\n",
       "    <tr>\n",
       "      <th>3</th>\n",
       "      <td>[topic:, dem, nom, Fuck, it,, you, gave, us, J...</td>\n",
       "    </tr>\n",
       "    <tr>\n",
       "      <th>4</th>\n",
       "      <td>[Im, currently, in, the, process, of, intervie...</td>\n",
       "    </tr>\n",
       "    <tr>\n",
       "      <th>...</th>\n",
       "      <td>...</td>\n",
       "    </tr>\n",
       "    <tr>\n",
       "      <th>9996</th>\n",
       "      <td>[So, like, Ivy, Room, hours, are, only, :..., ...</td>\n",
       "    </tr>\n",
       "    <tr>\n",
       "      <th>9997</th>\n",
       "      <td>[Can, anybody, give, a, review, on, PHP, :, Me...</td>\n",
       "    </tr>\n",
       "    <tr>\n",
       "      <th>9998</th>\n",
       "      <td>[Does, brown, have, any, pre, professional, fr...</td>\n",
       "    </tr>\n",
       "    <tr>\n",
       "      <th>9999</th>\n",
       "      <td>[not, to, be, soft, or, anything, but, freshma...</td>\n",
       "    </tr>\n",
       "    <tr>\n",
       "      <th>10000</th>\n",
       "      <td>[students, who, taken, the, MCAT, (and, want, ...</td>\n",
       "    </tr>\n",
       "  </tbody>\n",
       "</table>\n",
       "<p>10001 rows × 1 columns</p>\n",
       "</div>"
      ],
      "text/plain": [
       "                                                       0\n",
       "0                                                    [1]\n",
       "1      [topic:, grades, Someone, please, make, a, pet...\n",
       "2      [topic:, grades, Firstly,, in, response, to, s...\n",
       "3      [topic:, dem, nom, Fuck, it,, you, gave, us, J...\n",
       "4      [Im, currently, in, the, process, of, intervie...\n",
       "...                                                  ...\n",
       "9996   [So, like, Ivy, Room, hours, are, only, :..., ...\n",
       "9997   [Can, anybody, give, a, review, on, PHP, :, Me...\n",
       "9998   [Does, brown, have, any, pre, professional, fr...\n",
       "9999   [not, to, be, soft, or, anything, but, freshma...\n",
       "10000  [students, who, taken, the, MCAT, (and, want, ...\n",
       "\n",
       "[10001 rows x 1 columns]"
      ]
     },
     "execution_count": 38,
     "metadata": {},
     "output_type": "execute_result"
    }
   ],
   "source": [
    "# convert csv into corpus\n",
    "content = []\n",
    "with open('posts.csv', newline='') as file: \n",
    "    filereader = csv.reader(file)\n",
    "    \n",
    "    for row in filereader: \n",
    "        corpus = row[2].split()\n",
    "        content.append(corpus)\n",
    "        cur += 1"
   ]
  },
  {
   "cell_type": "code",
   "execution_count": 11,
   "metadata": {},
   "outputs": [],
   "source": [
    "def make_pairs(corpus): \n",
    "    for i in range(len(corpus) - 1): \n",
    "        yield (corpus[i], corpus[i + 1])"
   ]
  },
  {
   "cell_type": "code",
   "execution_count": 56,
   "metadata": {},
   "outputs": [],
   "source": [
    "word_dict = {}\n",
    "\n",
    "for row in content: \n",
    "    pairs = make_pairs(row)\n",
    "    for word_1, word_2 in pairs: \n",
    "        if word_1 in word_dict.keys(): \n",
    "            word_dict[word_1].append(word_2)\n",
    "        else: \n",
    "            word_dict[word_1] = [word_2]"
   ]
  },
  {
   "cell_type": "code",
   "execution_count": 93,
   "metadata": {},
   "outputs": [],
   "source": [
    "def generate_first_word(content): \n",
    "    idx = randint(0, len(content))\n",
    "    return np.random.choice(content[idx]) "
   ]
  },
  {
   "cell_type": "code",
   "execution_count": 94,
   "metadata": {},
   "outputs": [
    {
     "name": "stdout",
     "output_type": "stream",
     "text": [
      "I heard its mine, plant grow a U.S. contagious it acceptable to someone with lab? I got dollars is being asked me to get the maximum acceptable to everyone loves her seem legit, but I can discuss ways you like a deep feelings at me about their professionalism, by a student issues, but does anyone know how anyone, and omit everything is my shot online? I saying in a spot for change is literally EVERYTHING you disagree, try to last semester they dont ever come to the Ratty are so many outlets in love to sell for course credits per kWH,.\n"
     ]
    }
   ],
   "source": [
    "first_word = generate_first_word(content)\n",
    "    \n",
    "post = first_word.capitalize()\n",
    "num_words = 100\n",
    "\n",
    "for i in range(num_words): \n",
    "    if first_word not in word_dict.keys():\n",
    "        first_word = generate_first_word(content)\n",
    "    word2 = np.random.choice(word_dict[first_word])\n",
    "    first_word = word2\n",
    "    post += ' ' + word2\n",
    "\n",
    "post += '.'\n",
    "print(post)   \n",
    "    "
   ]
  },
  {
   "cell_type": "code",
   "execution_count": null,
   "metadata": {},
   "outputs": [],
   "source": []
  },
  {
   "cell_type": "code",
   "execution_count": null,
   "metadata": {},
   "outputs": [],
   "source": []
  }
 ],
 "metadata": {
  "kernelspec": {
   "display_name": "Python 3",
   "language": "python",
   "name": "python3"
  },
  "language_info": {
   "codemirror_mode": {
    "name": "ipython",
    "version": 3
   },
   "file_extension": ".py",
   "mimetype": "text/x-python",
   "name": "python",
   "nbconvert_exporter": "python",
   "pygments_lexer": "ipython3",
   "version": "3.8.3"
  }
 },
 "nbformat": 4,
 "nbformat_minor": 4
}
