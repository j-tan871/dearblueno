{
 "cells": [
  {
   "cell_type": "code",
   "execution_count": 104,
   "metadata": {},
   "outputs": [],
   "source": [
    "import numpy as np\n",
    "import pandas as pd\n",
    "import csv\n",
    "from random import randint"
   ]
  },
  {
   "cell_type": "code",
   "execution_count": 105,
   "metadata": {},
   "outputs": [],
   "source": [
    "# convert csv into corpus\n",
    "content = []\n",
    "with open('posts.csv', newline='') as file: \n",
    "    filereader = csv.reader(file)\n",
    "    \n",
    "    for row in filereader: \n",
    "        corpus = row[2].split()\n",
    "        content.append(corpus)"
   ]
  },
  {
   "cell_type": "code",
   "execution_count": 106,
   "metadata": {},
   "outputs": [],
   "source": [
    "def make_pairs(corpus): \n",
    "    for i in range(len(corpus) - 1): \n",
    "        yield (corpus[i], corpus[i + 1])"
   ]
  },
  {
   "cell_type": "code",
   "execution_count": 107,
   "metadata": {},
   "outputs": [],
   "source": [
    "word_dict = {}\n",
    "\n",
    "for row in content: \n",
    "    pairs = make_pairs(row)\n",
    "    for word_1, word_2 in pairs: \n",
    "        if word_1 in word_dict.keys(): \n",
    "            word_dict[word_1].append(word_2)\n",
    "        else: \n",
    "            word_dict[word_1] = [word_2]"
   ]
  },
  {
   "cell_type": "code",
   "execution_count": 108,
   "metadata": {},
   "outputs": [],
   "source": [
    "def generate_first_word(content): \n",
    "    idx = randint(0, len(content))\n",
    "    return np.random.choice(content[idx]) "
   ]
  },
  {
   "cell_type": "code",
   "execution_count": 109,
   "metadata": {},
   "outputs": [
    {
     "name": "stdout",
     "output_type": "stream",
     "text": [
      "Red solo cups of discreetly providing free to everyone in the ethnic minorities who disagrees and standing up : FAIL Running trace : pm TTh, like this. Sorry for Sw ??? like, everyone), I sit in order to conflict we stayed up $. Comment below my life rather than minutes so jealous of the herald piece? If you when or similar in common. I could it may consider it, is it problematic he already cannot possibly using the midterm, other hand, it but I use them play!! me through bangs? I can see the end of failing show or warmer. It.\n"
     ]
    }
   ],
   "source": [
    "first_word = generate_first_word(content)\n",
    "    \n",
    "post = first_word.capitalize()\n",
    "num_words = 100\n",
    "\n",
    "for i in range(num_words): \n",
    "    while first_word not in word_dict.keys():\n",
    "        first_word = generate_first_word(content)\n",
    "    word2 = np.random.choice(word_dict[first_word])\n",
    "    first_word = word2\n",
    "    post += ' ' + word2\n",
    "\n",
    "post += '.'\n",
    "print(post)   \n",
    "    "
   ]
  },
  {
   "cell_type": "code",
   "execution_count": null,
   "metadata": {},
   "outputs": [],
   "source": []
  }
 ],
 "metadata": {
  "kernelspec": {
   "display_name": "Python 3",
   "language": "python",
   "name": "python3"
  },
  "language_info": {
   "codemirror_mode": {
    "name": "ipython",
    "version": 3
   },
   "file_extension": ".py",
   "mimetype": "text/x-python",
   "name": "python",
   "nbconvert_exporter": "python",
   "pygments_lexer": "ipython3",
   "version": "3.8.3"
  }
 },
 "nbformat": 4,
 "nbformat_minor": 4
}
