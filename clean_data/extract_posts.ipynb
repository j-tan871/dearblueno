{
 "cells": [
  {
   "cell_type": "code",
   "execution_count": 1,
   "metadata": {},
   "outputs": [
    {
     "name": "stdout",
     "output_type": "stream",
     "text": [
      "showing info https://raw.githubusercontent.com/nltk/nltk_data/gh-pages/index.xml\n"
     ]
    }
   ],
   "source": [
    "from bs4 import BeautifulSoup\n",
    "import pandas as pd\n",
    "import csv\n",
    "from datetime import datetime\n",
    "import nltk\n",
    "nltk.download()\n",
    "import re"
   ]
  },
  {
   "cell_type": "code",
   "execution_count": 15,
   "metadata": {},
   "outputs": [],
   "source": [
    "from nltk.corpus import stopwords\n",
    "import string"
   ]
  },
  {
   "cell_type": "code",
   "execution_count": 2,
   "metadata": {},
   "outputs": [],
   "source": [
    "with open('posts_1.html', 'r') as f:\n",
    "    with open('posts_1.html', encoding=\"utf8\") as f:\n",
    "        contents = f.read()\n",
    "    \n",
    "    soup = BeautifulSoup(contents, 'html.parser')"
   ]
  },
  {
   "cell_type": "code",
   "execution_count": 3,
   "metadata": {},
   "outputs": [],
   "source": [
    "fuller_results = soup.find_all('div', class_='pam _3-95 _2pi0 _2lej uiBoxWhite noborder')\n",
    "\n",
    "# for result in fuller_results: \n",
    "#     print(result.prettify())"
   ]
  },
  {
   "cell_type": "code",
   "execution_count": 23,
   "metadata": {},
   "outputs": [],
   "source": [
    "content_col = []\n",
    "date_col = []\n",
    "\n",
    "for result in fuller_results: \n",
    "    text = result.find('div', class_='_2pin').find('div')\n",
    "    date = result.find('div', class_='_3-94 _2lem')\n",
    "    \n",
    "    # convert text to lowercase\n",
    "    text = text.text.lower()\n",
    "    \n",
    "    # remove emojis\n",
    "    text = text.encode('ascii', 'ignore').decode()\n",
    "    \n",
    "    # remove stop words\n",
    "    stop_words = stopwords.words(\"english\")\n",
    "    text = ' '.join([word for word in text.split(' ') if word not in stop_words])\n",
    "    \n",
    "    # remove ticks\n",
    "    text = re.sub(\"\\\"\\w+\", '', text)\n",
    "    text = re.sub(\"\\'\\w+\", '', text)\n",
    "    \n",
    "    # remove punctuation\n",
    "    text = re.sub('[%s]' % re.escape(string.punctuation), ' ', text)\n",
    "    \n",
    "    # remove numbers\n",
    "    text = re.sub(r'\\w*\\d+\\w*', '', text)\n",
    "    \n",
    "    # remove spaces\n",
    "    text = re.sub('\\s{2,}', \" \", text)\n",
    "    \n",
    "    content_col.append(text)\n",
    "    \n",
    "    format = '%b %d, %Y, %H:%M %p'\n",
    "    date_object = datetime.strptime(date.text, format)\n",
    "    date_col.append(date_object)"
   ]
  },
  {
   "cell_type": "code",
   "execution_count": 24,
   "metadata": {},
   "outputs": [
    {
     "data": {
      "text/html": [
       "<div>\n",
       "<style scoped>\n",
       "    .dataframe tbody tr th:only-of-type {\n",
       "        vertical-align: middle;\n",
       "    }\n",
       "\n",
       "    .dataframe tbody tr th {\n",
       "        vertical-align: top;\n",
       "    }\n",
       "\n",
       "    .dataframe thead th {\n",
       "        text-align: right;\n",
       "    }\n",
       "</style>\n",
       "<table border=\"1\" class=\"dataframe\">\n",
       "  <thead>\n",
       "    <tr style=\"text-align: right;\">\n",
       "      <th></th>\n",
       "      <th>0</th>\n",
       "      <th>1</th>\n",
       "    </tr>\n",
       "  </thead>\n",
       "  <tbody>\n",
       "    <tr>\n",
       "      <th>0</th>\n",
       "      <td>2020-03-19 11:03:00</td>\n",
       "      <td>topic grades someone please make petition ext...</td>\n",
       "    </tr>\n",
       "    <tr>\n",
       "      <th>1</th>\n",
       "      <td>2020-03-19 11:03:00</td>\n",
       "      <td>topic grades firstly response someone arguing...</td>\n",
       "    </tr>\n",
       "    <tr>\n",
       "      <th>2</th>\n",
       "      <td>2020-03-19 11:03:00</td>\n",
       "      <td>topic dem nom fuck it gave us joe biden give ...</td>\n",
       "    </tr>\n",
       "    <tr>\n",
       "      <th>3</th>\n",
       "      <td>2020-03-19 11:03:00</td>\n",
       "      <td>im currently process interviewing ib internsh...</td>\n",
       "    </tr>\n",
       "    <tr>\n",
       "      <th>4</th>\n",
       "      <td>2020-03-19 11:03:00</td>\n",
       "      <td>real question lol anyone play covet fashion w...</td>\n",
       "    </tr>\n",
       "    <tr>\n",
       "      <th>...</th>\n",
       "      <td>...</td>\n",
       "      <td>...</td>\n",
       "    </tr>\n",
       "    <tr>\n",
       "      <th>9995</th>\n",
       "      <td>2019-09-04 12:44:00</td>\n",
       "      <td>like ivy room hours website hours updated lik...</td>\n",
       "    </tr>\n",
       "    <tr>\n",
       "      <th>9996</th>\n",
       "      <td>2019-09-04 12:44:00</td>\n",
       "      <td>anybody give review php meditation mindfulnes...</td>\n",
       "    </tr>\n",
       "    <tr>\n",
       "      <th>9997</th>\n",
       "      <td>2019-09-04 12:44:00</td>\n",
       "      <td>brown pre professional frats</td>\n",
       "    </tr>\n",
       "    <tr>\n",
       "      <th>9998</th>\n",
       "      <td>2019-09-04 12:44:00</td>\n",
       "      <td>soft anything freshman past couple days brown...</td>\n",
       "    </tr>\n",
       "    <tr>\n",
       "      <th>9999</th>\n",
       "      <td>2019-09-04 12:44:00</td>\n",
       "      <td>students who taken mcat and want share classe...</td>\n",
       "    </tr>\n",
       "  </tbody>\n",
       "</table>\n",
       "<p>10000 rows × 2 columns</p>\n",
       "</div>"
      ],
      "text/plain": [
       "                       0                                                  1\n",
       "0    2020-03-19 11:03:00   topic grades someone please make petition ext...\n",
       "1    2020-03-19 11:03:00   topic grades firstly response someone arguing...\n",
       "2    2020-03-19 11:03:00   topic dem nom fuck it gave us joe biden give ...\n",
       "3    2020-03-19 11:03:00   im currently process interviewing ib internsh...\n",
       "4    2020-03-19 11:03:00   real question lol anyone play covet fashion w...\n",
       "...                  ...                                                ...\n",
       "9995 2019-09-04 12:44:00   like ivy room hours website hours updated lik...\n",
       "9996 2019-09-04 12:44:00   anybody give review php meditation mindfulnes...\n",
       "9997 2019-09-04 12:44:00                      brown pre professional frats \n",
       "9998 2019-09-04 12:44:00   soft anything freshman past couple days brown...\n",
       "9999 2019-09-04 12:44:00   students who taken mcat and want share classe...\n",
       "\n",
       "[10000 rows x 2 columns]"
      ]
     },
     "execution_count": 24,
     "metadata": {},
     "output_type": "execute_result"
    }
   ],
   "source": [
    "df = pd.DataFrame(data=[date_col, content_col]).transpose()\n",
    "df"
   ]
  },
  {
   "cell_type": "code",
   "execution_count": 26,
   "metadata": {},
   "outputs": [],
   "source": [
    "# with open('posts_1.csv', 'w', encoding='utf-8', newline='') as f: \n",
    "      \n",
    "#     # using csv.writer method from CSV package \n",
    "#     write = csv.writer(f) \n",
    "      \n",
    "#     for item in arr: \n",
    "#         if item == ' ': \n",
    "#             continue\n",
    "#         write.writerow([item])\n",
    "df.to_csv('posts.csv', mode='w')"
   ]
  },
  {
   "cell_type": "code",
   "execution_count": null,
   "metadata": {},
   "outputs": [],
   "source": []
  },
  {
   "cell_type": "code",
   "execution_count": null,
   "metadata": {},
   "outputs": [],
   "source": []
  },
  {
   "cell_type": "code",
   "execution_count": null,
   "metadata": {},
   "outputs": [],
   "source": []
  }
 ],
 "metadata": {
  "kernelspec": {
   "display_name": "Python 3",
   "language": "python",
   "name": "python3"
  },
  "language_info": {
   "codemirror_mode": {
    "name": "ipython",
    "version": 3
   },
   "file_extension": ".py",
   "mimetype": "text/x-python",
   "name": "python",
   "nbconvert_exporter": "python",
   "pygments_lexer": "ipython3",
   "version": "3.8.3"
  }
 },
 "nbformat": 4,
 "nbformat_minor": 4
}
