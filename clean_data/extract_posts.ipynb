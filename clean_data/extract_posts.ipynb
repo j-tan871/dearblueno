{
 "cells": [
  {
   "cell_type": "code",
   "execution_count": 3,
   "metadata": {},
   "outputs": [
    {
     "name": "stdout",
     "output_type": "stream",
     "text": [
      "showing info https://raw.githubusercontent.com/nltk/nltk_data/gh-pages/index.xml\n"
     ]
    }
   ],
   "source": [
    "from bs4 import BeautifulSoup\n",
    "import pandas as pd\n",
    "import csv\n",
    "from datetime import datetime\n",
    "import nltk\n",
    "nltk.download()\n",
    "import re"
   ]
  },
  {
   "cell_type": "code",
   "execution_count": 4,
   "metadata": {},
   "outputs": [],
   "source": [
    "from nltk.corpus import stopwords\n",
    "import string"
   ]
  },
  {
   "cell_type": "code",
   "execution_count": 14,
   "metadata": {},
   "outputs": [],
   "source": [
    "# open html file\n",
    "with open('posts_1.html', 'r') as f:\n",
    "    with open('posts_1.html', encoding=\"utf8\") as f:\n",
    "        contents = f.read()\n",
    "    \n",
    "    soup = BeautifulSoup(contents, 'html.parser')"
   ]
  },
  {
   "cell_type": "code",
   "execution_count": 6,
   "metadata": {},
   "outputs": [],
   "source": [
    "# find div with text content \n",
    "fuller_results = soup.find_all('div', class_='pam _3-95 _2pi0 _2lej uiBoxWhite noborder')\n",
    "\n",
    "# for result in fuller_results: \n",
    "#      print(result.prettify())"
   ]
  },
  {
   "cell_type": "code",
   "execution_count": 16,
   "metadata": {},
   "outputs": [
    {
     "data": {
      "text/html": [
       "<div>\n",
       "<style scoped>\n",
       "    .dataframe tbody tr th:only-of-type {\n",
       "        vertical-align: middle;\n",
       "    }\n",
       "\n",
       "    .dataframe tbody tr th {\n",
       "        vertical-align: top;\n",
       "    }\n",
       "\n",
       "    .dataframe thead th {\n",
       "        text-align: right;\n",
       "    }\n",
       "</style>\n",
       "<table border=\"1\" class=\"dataframe\">\n",
       "  <thead>\n",
       "    <tr style=\"text-align: right;\">\n",
       "      <th></th>\n",
       "      <th>0</th>\n",
       "      <th>1</th>\n",
       "    </tr>\n",
       "  </thead>\n",
       "  <tbody>\n",
       "    <tr>\n",
       "      <th>0</th>\n",
       "      <td>2020-03-19 11:03:00</td>\n",
       "      <td>topic: grades Someone please make a petition ...</td>\n",
       "    </tr>\n",
       "    <tr>\n",
       "      <th>1</th>\n",
       "      <td>2020-03-19 11:03:00</td>\n",
       "      <td>topic: grades Firstly, in response to someone...</td>\n",
       "    </tr>\n",
       "    <tr>\n",
       "      <th>2</th>\n",
       "      <td>2020-03-19 11:03:00</td>\n",
       "      <td>topic: dem nom Fuck it, you gave us Joe Biden...</td>\n",
       "    </tr>\n",
       "    <tr>\n",
       "      <th>3</th>\n",
       "      <td>2020-03-19 11:03:00</td>\n",
       "      <td>Im currently in the process of interviewing f...</td>\n",
       "    </tr>\n",
       "    <tr>\n",
       "      <th>4</th>\n",
       "      <td>2020-03-19 11:03:00</td>\n",
       "      <td>Real question lol does anyone play covet fash...</td>\n",
       "    </tr>\n",
       "    <tr>\n",
       "      <th>...</th>\n",
       "      <td>...</td>\n",
       "      <td>...</td>\n",
       "    </tr>\n",
       "    <tr>\n",
       "      <th>9995</th>\n",
       "      <td>2019-09-04 12:44:00</td>\n",
       "      <td>So like Ivy Room hours are only :... is the w...</td>\n",
       "    </tr>\n",
       "    <tr>\n",
       "      <th>9996</th>\n",
       "      <td>2019-09-04 12:44:00</td>\n",
       "      <td>Can anybody give a review on PHP : Meditation...</td>\n",
       "    </tr>\n",
       "    <tr>\n",
       "      <th>9997</th>\n",
       "      <td>2019-09-04 12:44:00</td>\n",
       "      <td>Does brown have any pre professional frats?</td>\n",
       "    </tr>\n",
       "    <tr>\n",
       "      <th>9998</th>\n",
       "      <td>2019-09-04 12:44:00</td>\n",
       "      <td>not to be soft or anything but freshman here ...</td>\n",
       "    </tr>\n",
       "    <tr>\n",
       "      <th>9999</th>\n",
       "      <td>2019-09-04 12:44:00</td>\n",
       "      <td>students who taken the MCAT (and want to shar...</td>\n",
       "    </tr>\n",
       "  </tbody>\n",
       "</table>\n",
       "<p>10000 rows × 2 columns</p>\n",
       "</div>"
      ],
      "text/plain": [
       "                       0                                                  1\n",
       "0    2020-03-19 11:03:00   topic: grades Someone please make a petition ...\n",
       "1    2020-03-19 11:03:00   topic: grades Firstly, in response to someone...\n",
       "2    2020-03-19 11:03:00   topic: dem nom Fuck it, you gave us Joe Biden...\n",
       "3    2020-03-19 11:03:00   Im currently in the process of interviewing f...\n",
       "4    2020-03-19 11:03:00   Real question lol does anyone play covet fash...\n",
       "...                  ...                                                ...\n",
       "9995 2019-09-04 12:44:00   So like Ivy Room hours are only :... is the w...\n",
       "9996 2019-09-04 12:44:00   Can anybody give a review on PHP : Meditation...\n",
       "9997 2019-09-04 12:44:00        Does brown have any pre professional frats?\n",
       "9998 2019-09-04 12:44:00   not to be soft or anything but freshman here ...\n",
       "9999 2019-09-04 12:44:00   students who taken the MCAT (and want to shar...\n",
       "\n",
       "[10000 rows x 2 columns]"
      ]
     },
     "execution_count": 16,
     "metadata": {},
     "output_type": "execute_result"
    }
   ],
   "source": [
    "content_col = []\n",
    "date_col = []\n",
    "\n",
    "# clean text data\n",
    "for result in fuller_results: \n",
    "    text = result.find('div', class_='_2pin').find('div')\n",
    "    date = result.find('div', class_='_3-94 _2lem')\n",
    "    \n",
    "    text = text.text\n",
    "    \n",
    "    # remove emojis\n",
    "    text = text.encode('ascii', 'ignore').decode()\n",
    "    \n",
    "    # remove ticks\n",
    "    text = re.sub(\"\\\"\\w+\", '', text)\n",
    "    text = re.sub(\"\\'\\w+\", '', text)\n",
    "\n",
    "    # remove ellipses and unnecessary punctuation\n",
    "    text = re.sub('([.][\\s]){2,}', ' ', text)\n",
    "    text = re.sub('[%s]' % '*', ' ', text)\n",
    "    text = re.sub('[%s]' % '-', ' ', text)\n",
    "    \n",
    "    # remove numbers\n",
    "    text = re.sub(r'\\w*\\d+\\w*', '', text)\n",
    "    \n",
    "    # remove extra spaces\n",
    "    text = re.sub('\\s{2,}', \" \", text)\n",
    "    \n",
    "    content_col.append(text)\n",
    "    \n",
    "    format = '%b %d, %Y, %H:%M %p'\n",
    "    date_object = datetime.strptime(date.text, format)\n",
    "    date_col.append(date_object)\n",
    "    \n",
    "df = pd.DataFrame(data=[date_col, content_col]).transpose()\n",
    "df"
   ]
  },
  {
   "cell_type": "code",
   "execution_count": 8,
   "metadata": {},
   "outputs": [],
   "source": [
    "# save to csv file\n",
    "df.to_csv('posts.csv', mode='w')"
   ]
  }
 ],
 "metadata": {
  "kernelspec": {
   "display_name": "Python 3",
   "language": "python",
   "name": "python3"
  },
  "language_info": {
   "codemirror_mode": {
    "name": "ipython",
    "version": 3
   },
   "file_extension": ".py",
   "mimetype": "text/x-python",
   "name": "python",
   "nbconvert_exporter": "python",
   "pygments_lexer": "ipython3",
   "version": "3.8.3"
  }
 },
 "nbformat": 4,
 "nbformat_minor": 4
}
